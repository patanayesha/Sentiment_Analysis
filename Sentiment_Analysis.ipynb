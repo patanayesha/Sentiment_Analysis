{
 "cells": [
  {
   "cell_type": "code",
   "execution_count": null,
   "id": "4833c7ec",
   "metadata": {},
   "outputs": [],
   "source": [
    "##Gaussian Naive Bayes\n",
    "\n",
    "##Imporint libraries\n",
    "import pandas as pd\n",
    "import numpy as np\n",
    "##Importing Dataset\n",
    "dataset = pd.read_csv(\"/home/apiiit-rkv/Desktop/mini/RestaurantReviews.csv\", delimiter = '\\t',\n",
    "quoting = 3)\n",
    "dataset.shape\n",
    "dataset.head()"
   ]
  },
  {
   "cell_type": "code",
   "execution_count": null,
   "id": "d666cc25",
   "metadata": {},
   "outputs": [],
   "source": [
    "##Data Preprocessing\n",
    "import re\n",
    "import nltk\n",
    "nltk.download('stopwords')\n",
    "from nltk.corpus import stopwords\n",
    "from nltk.stem.porter import PorterStemmer\n",
    "ps = PorterStemmer()\n",
    "all_stopwords = stopwords.words('english')\n",
    "all_stopwords.remove('not')\n",
    "corpus=[]\n",
    "for i in range(0, 900):\n",
    "    review = re.sub('[^a-zA-Z]', ' ', dataset['Review'][i])\n",
    "    review = review.lower()\n",
    "    review = review.split()\n",
    "    review = [ps.stem(word) for word in review if not word in set(all_stopwords)]\n",
    "    review = ' '.join(review)\n",
    "    corpus.append(review)\n",
    "corpus"
   ]
  },
  {
   "cell_type": "code",
   "execution_count": null,
   "id": "08dfa540",
   "metadata": {},
   "outputs": [],
   "source": [
    "## Data Trasformation\n",
    "from sklearn.feature_extraction.text import CountVectorizer\n",
    "cv = CountVectorizer(max_features = 1420)\n",
    "X = cv.fit_transform(corpus).toarray()Decision Tree ---> 59.44444444444444\n",
    "y = dataset.iloc[:, -1].values\n",
    "import joblib\n",
    "classifier = joblib.load('sentiment_classifier')\n",
    "import pickle\n",
    "bow_path = 'sentiment.pkl'\n",
    "pickle.dump(cv, open(bow_path, \"wb\"))\n",
    "from sklearn.model_selection import train_test_split\n",
    "\n",
    "## Dividing Dataset into training and test data\n",
    "X_train, X_test, y_train, y_test = train_test_split(X, y, test_size = 0.20, random_state = 0)\n",
    "####Model fitting (Naive Bayes)\n",
    "from sklearn.naive_bayes import GaussianNB\n",
    "classifier = GaussianNB()\n",
    "classifier.fit(X_train, y_train)\n",
    "GaussianNB()\n",
    "## Model performance\n",
    "y_pred = classifier.predict(X_test)\n",
    "from sklearn.metrics import confusion_matrix, accuracy_score\n",
    "cm = confusion_matrix(y_test, y_pred)\n",
    "print(cm)\n",
    "accuracy_score(y_test, y_pred)"
   ]
  },
  {
   "cell_type": "code",
   "execution_count": null,
   "id": "c19a37be",
   "metadata": {},
   "outputs": [],
   "source": [
    "\n",
    "##Logistic Regression\n",
    "\n",
    "##Importing Libraries\n",
    "import numpy as np\n",
    "import pandas as pd\n",
    "## Importing dataset\n",
    "dataset = pd.read_csv('/home/apiiit-rkv/Desktop/mini/RestaurantReviews.csv', delimiter = '\\t',\n",
    "quoting = 3)\n",
    "dataset"
   ]
  },
  {
   "cell_type": "code",
   "execution_count": null,
   "id": "fd075b7b",
   "metadata": {},
   "outputs": [],
   "source": [
    "#Data Preprocessing\n",
    "import re\n",
    "import nltk\n",
    "from nltk.corpus import stopwords\n",
    "from nltk.stem.porter import PorterStemmer\n",
    "corpus = []\n",
    "for i in range(0, 900):\n",
    "    review = re.sub('[^a-zA-Z]', ' ', dataset['Review'][i])\n",
    "    review = review.lower()\n",
    "    review = review.split()\n",
    "    ps = PorterStemmer()\n",
    "    review = [ps.stem(word) for word in review if not word in set(stopwords.words('english'))]\n",
    "    review = ' '.join(review)\n",
    "    corpus.append(review)\n",
    "corpus"
   ]
  },
  {
   "cell_type": "code",
   "execution_count": null,
   "id": "dd24a506",
   "metadata": {},
   "outputs": [],
   "source": [
    "### Data transformation\n",
    "from sklearn.feature_extraction.text import CountVectorizer\n",
    "cv = CountVectorizer(max_features = 1420)\n",
    "X = cv.fit_transform(corpus).toarray()\n",
    "y = dataset.iloc[:,1].values\n",
    "## Dividing dataset into training and test set\n",
    "from sklearn.model_selection import train_test_split\n",
    "X_train, X_test, y_train, y_test = train_test_split(X, y, test_size = 0.30, random_state = 0)\n",
    "## Model fittig (Logistice regression algorithm)\n",
    "from sklearn import linear_model\n",
    "classifier = linear_model.LogisticRegression(C=1.5)\n",
    "classifier.fit(X_train, y_train)\n",
    "\n",
    "##Model Performance\n",
    "y_pred = classifier.predict(X_test)\n",
    "from sklearn.metrics import confusion_matrix\n",
    "cm = confusion_matrix(y_test, y_pred)\n",
    "print (\"Confusion Matrix:\\n\",cm)\n",
    "accuracy_score(y_test, y_pred)"
   ]
  },
  {
   "cell_type": "code",
   "execution_count": null,
   "id": "4d90baa8",
   "metadata": {},
   "outputs": [],
   "source": [
    "## Comapring the accuracy by using bar graph\n",
    "plt.figure(figsize=[10,10],dpi= 60)\n",
    "plt.title('Accuracy Comparison')\n",
    "plt.xlabel('Accuracy')\n",
    "plt.ylabel('Algorithm')\n",
    "sns.barplot(x= model,y= acc,palette='ocean')"
   ]
  },
  {
   "cell_type": "code",
   "execution_count": null,
   "id": "aae0a763",
   "metadata": {},
   "outputs": [],
   "source": [
    "##Taking input from the user and predicting it .\n",
    "from textblob import TextBlob\n",
    "input_sentence=\"\"\n",
    "analysis = TextBlob(input_sentence)\n",
    "sentiment = analysis.sentiment.polarity\n",
    "if sentiment > 0:\n",
    "result = \"1\"\n",
    "print(\"Positive Review\")\n",
    "else:\n",
    "result = \"0\"\n",
    "print(\"Negative Review\")\n",
    "print({result})\n",
    "## For the positive comment it predicts as positive Review and 1 as value"
   ]
  }
 ],
 "metadata": {
  "kernelspec": {
   "display_name": "Python 3",
   "language": "python",
   "name": "python3"
  },
  "language_info": {
   "codemirror_mode": {
    "name": "ipython",
    "version": 3
   },
   "file_extension": ".py",
   "mimetype": "text/x-python",
   "name": "python",
   "nbconvert_exporter": "python",
   "pygments_lexer": "ipython3",
   "version": "3.9.18"
  }
 },
 "nbformat": 4,
 "nbformat_minor": 5
}
